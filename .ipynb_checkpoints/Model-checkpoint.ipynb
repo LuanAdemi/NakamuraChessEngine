{
 "cells": [
  {
   "cell_type": "markdown",
   "metadata": {},
   "source": [
    "# Using 2657 tournament matches of Hikaru Nakamura to train a chess engine\n",
    "This notebook trains a deep neural network with 2657 tournament matches of the top player H. Nakamura to play chess."
   ]
  },
  {
   "cell_type": "markdown",
   "metadata": {},
   "source": [
    "<img src=\"Model.svg\">"
   ]
  },
  {
   "cell_type": "code",
   "execution_count": 1,
   "metadata": {
    "execution": {
     "iopub.execute_input": "2020-12-21T21:06:25.594397Z",
     "iopub.status.busy": "2020-12-21T21:06:25.594263Z",
     "iopub.status.idle": "2020-12-21T21:06:26.074635Z",
     "shell.execute_reply": "2020-12-21T21:06:26.074289Z",
     "shell.execute_reply.started": "2020-12-21T21:06:25.594380Z"
    }
   },
   "outputs": [],
   "source": [
    "import chess.pgn\n",
    "import torch\n",
    "import numpy as np\n",
    "import os, os.path\n",
    "import timeit\n",
    "\n",
    "import torch\n",
    "import torch.nn as nn\n",
    "import torch.nn.functional as F\n",
    "import math\n",
    "from torch.utils.tensorboard import SummaryWriter\n",
    "import matplotlib.pyplot as plt\n",
    "\n",
    "from adabelief_pytorch import AdaBelief\n",
    "\n",
    "from util import *\n",
    "\n",
    "device = torch.device(\"cuda\")"
   ]
  },
  {
   "cell_type": "markdown",
   "metadata": {},
   "source": [
    "## Loading the games"
   ]
  },
  {
   "cell_type": "code",
   "execution_count": 2,
   "metadata": {
    "execution": {
     "iopub.execute_input": "2020-12-21T21:06:27.950039Z",
     "iopub.status.busy": "2020-12-21T21:06:27.949866Z",
     "iopub.status.idle": "2020-12-21T21:06:35.825294Z",
     "shell.execute_reply": "2020-12-21T21:06:35.824915Z",
     "shell.execute_reply.started": "2020-12-21T21:06:27.950023Z"
    }
   },
   "outputs": [
    {
     "name": "stdout",
     "output_type": "stream",
     "text": [
      "Loaded 2657 games in 7.871836798000004 seconds.\n"
     ]
    }
   ],
   "source": [
    "# loading the games\n",
    "DIR = 'data/Raw_game/Raw_game/Nakamura/'\n",
    "games = []\n",
    "numberOfGames = 0\n",
    "start = timeit.default_timer()\n",
    "for name in os.listdir(DIR):\n",
    "    numberOfGames += 1\n",
    "    games.append(chess.pgn.read_game(open(DIR+name)))\n",
    "stop = timeit.default_timer()\n",
    "print(\"Loaded\", numberOfGames, \"games in\", stop - start, \"seconds.\")"
   ]
  },
  {
   "cell_type": "markdown",
   "metadata": {},
   "source": [
    "## Datastructure"
   ]
  },
  {
   "cell_type": "code",
   "execution_count": 3,
   "metadata": {
    "execution": {
     "iopub.execute_input": "2020-12-21T21:06:35.825926Z",
     "iopub.status.busy": "2020-12-21T21:06:35.825836Z",
     "iopub.status.idle": "2020-12-21T21:06:36.161947Z",
     "shell.execute_reply": "2020-12-21T21:06:36.161548Z",
     "shell.execute_reply.started": "2020-12-21T21:06:35.825914Z"
    }
   },
   "outputs": [
    {
     "data": {
      "image/png": "[encoded data removed]",
      "text/plain": [
       "<Figure size 864x504 with 7 Axes>"
      ]
     },
     "metadata": {
      "needs_background": "light"
     },
     "output_type": "display_data"
    }
   ],
   "source": [
    "boardMap = boardToTensor(games[0].board(), \"b\")[0]\n",
    "fig = plt.figure(figsize=(12,7))\n",
    "figNo = 1\n",
    "for i in range(7):\n",
    "    fig.add_subplot(1,7, figNo)\n",
    "    plt.imshow(boardMap[i], cmap=\"gray\")\n",
    "    figNo += 1\n",
    "plt.show()"
   ]
  },
  {
   "cell_type": "code",
   "execution_count": 4,
   "metadata": {
    "execution": {
     "iopub.execute_input": "2020-12-21T21:06:36.162747Z",
     "iopub.status.busy": "2020-12-21T21:06:36.162649Z",
     "iopub.status.idle": "2020-12-21T21:06:36.372536Z",
     "shell.execute_reply": "2020-12-21T21:06:36.372147Z",
     "shell.execute_reply.started": "2020-12-21T21:06:36.162734Z"
    }
   },
   "outputs": [
    {
     "data": {
      "image/png": "[encoded data removed]",
      "text/plain": [
       "<Figure size 864x288 with 4 Axes>"
      ]
     },
     "metadata": {
      "needs_background": "light"
     },
     "output_type": "display_data"
    }
   ],
   "source": [
    "moveMap = moveToTensor(\"e2e4\")\n",
    "fig = plt.figure(figsize=(12,4))\n",
    "figNo = 1\n",
    "for i in range(4):\n",
    "    fig.add_subplot(1,4, figNo)\n",
    "    plt.imshow(moveMap[i], cmap=\"gray\")\n",
    "    figNo += 1\n",
    "plt.show()"
   ]
  },
  {
   "cell_type": "markdown",
   "metadata": {},
   "source": [
    "## Preparing the data for training"
   ]
  },
  {
   "cell_type": "code",
   "execution_count": 127,
   "metadata": {
    "execution": {
     "iopub.execute_input": "2020-12-21T19:43:12.310614Z",
     "iopub.status.busy": "2020-12-21T19:43:12.310456Z",
     "iopub.status.idle": "2020-12-21T19:43:12.800331Z",
     "shell.execute_reply": "2020-12-21T19:43:12.799923Z",
     "shell.execute_reply.started": "2020-12-21T19:43:12.310598Z"
    }
   },
   "outputs": [],
   "source": [
    "X, Y = [], []\n",
    "for i in range(50):\n",
    "    c = \"\"\n",
    "    t = \"w\"\n",
    "    board = games[i].board()\n",
    "    \n",
    "    # get the color\n",
    "    if games[i].headers[\"White\"] == \"Nakamura, Hi\":\n",
    "        c = \"w\"\n",
    "    else:\n",
    "        c = \"b\"\n",
    "    \n",
    "    for move in games[i].mainline_moves():\n",
    "        if t == c:\n",
    "            X.append(boardToTensor(board, c).to(device))\n",
    "            Y.append(moveToTensor(move).to(device))\n",
    "            board.push(move)\n",
    "            t = \"a\"\n",
    "        else:\n",
    "            board.push(move)\n",
    "            t = c"
   ]
  },
  {
   "cell_type": "markdown",
   "metadata": {},
   "source": [
    "## Model"
   ]
  },
  {
   "cell_type": "code",
   "execution_count": 178,
   "metadata": {
    "execution": {
     "iopub.execute_input": "2020-12-21T19:56:47.950373Z",
     "iopub.status.busy": "2020-12-21T19:56:47.950211Z",
     "iopub.status.idle": "2020-12-21T19:56:47.955251Z",
     "shell.execute_reply": "2020-12-21T19:56:47.954975Z",
     "shell.execute_reply.started": "2020-12-21T19:56:47.950357Z"
    }
   },
   "outputs": [],
   "source": [
    "class Net(nn.Module):\n",
    "    def __init__(self):\n",
    "        super(Net, self).__init__()\n",
    "        self.conv1 = torch.nn.Conv2d(7, 64, kernel_size = 3, stride = 1, padding = 1)\n",
    "        self.conv2 = torch.nn.Conv2d(64, 128, kernel_size = 3, stride = 1, padding = 1)\n",
    "        self.conv3 = torch.nn.Conv2d(128, 256, kernel_size = 3, stride = 1, padding = 1)\n",
    "        self.conv4 = torch.nn.Conv2d(256, 128, kernel_size = 3, stride = 1, padding = 1)\n",
    "        self.conv5 = torch.nn.Conv2d(128, 4, kernel_size = 3, stride = 1, padding = 1)\n",
    "        \n",
    "    \n",
    "    def forward(self, x):\n",
    "        x = torch.relu(self.conv1(x))\n",
    "        x = F.max_pool2d(torch.relu(self.conv2(x)), (2,2))\n",
    "        x = torch.relu(self.conv3(x))\n",
    "        x = torch.relu(self.conv4(x))\n",
    "        x = torch.relu(self.conv5(x))\n",
    "        return torch.softmax(x.view(4,16),dim=1).view(4,4,4)"
   ]
  },
  {
   "cell_type": "code",
   "execution_count": 179,
   "metadata": {
    "execution": {
     "iopub.execute_input": "2020-12-21T19:56:48.394140Z",
     "iopub.status.busy": "2020-12-21T19:56:48.393995Z",
     "iopub.status.idle": "2020-12-21T19:56:48.407003Z",
     "shell.execute_reply": "2020-12-21T19:56:48.406712Z",
     "shell.execute_reply.started": "2020-12-21T19:56:48.394126Z"
    }
   },
   "outputs": [
    {
     "name": "stdout",
     "output_type": "stream",
     "text": [
      "\u001b[31mPlease check your arguments if you have upgraded adabelief-pytorch from version 0.0.5.\n",
      "\u001b[31mModifications to default arguments:\n",
      "\u001b[31m                           eps  weight_decouple    rectify\n",
      "-----------------------  -----  -----------------  ---------\n",
      "adabelief-pytorch=0.0.5  1e-08  False              False\n",
      ">=0.1.0 (Current 0.2.0)  1e-16  True               True\n",
      "\u001b[34mSGD better than Adam (e.g. CNN for Image Classification)    Adam better than SGD (e.g. Transformer, GAN)\n",
      "----------------------------------------------------------  ----------------------------------------------\n",
      "Recommended eps = 1e-8                                      Recommended eps = 1e-16\n",
      "\u001b[34mFor a complete table of recommended hyperparameters, see\n",
      "\u001b[34mhttps://github.com/juntang-zhuang/Adabelief-Optimizer\n",
      "\u001b[32mYou can disable the log message by setting \"print_change_log = False\", though it is recommended to keep as a reminder.\n",
      "\u001b[0m\n",
      "Weight decoupling enabled in AdaBelief\n"
     ]
    }
   ],
   "source": [
    "model = Net().to(device)\n",
    "optimizer = AdaBelief(model.parameters(), lr=1e-3, eps=1e-8, betas=(0.9,0.999), weight_decouple = True, rectify = False)\n",
    "#optimizer = torch.optim.SGD(model.parameters(), lr=1e-3)\n",
    "loss_function = nn.MSELoss()"
   ]
  },
  {
   "cell_type": "markdown",
   "metadata": {},
   "source": [
    "## Training"
   ]
  },
  {
   "cell_type": "code",
   "execution_count": 181,
   "metadata": {
    "execution": {
     "iopub.execute_input": "2020-12-21T19:56:49.449431Z",
     "iopub.status.busy": "2020-12-21T19:56:49.449270Z",
     "iopub.status.idle": "2020-12-21T20:04:30.386770Z",
     "shell.execute_reply": "2020-12-21T20:04:30.386493Z",
     "shell.execute_reply.started": "2020-12-21T19:56:49.449414Z"
    }
   },
   "outputs": [
    {
     "name": "stdout",
     "output_type": "stream",
     "text": [
      "Epoch: 99. Loss: 0.00245420588180422806\r"
     ]
    }
   ],
   "source": [
    "for i in range(100):\n",
    "    j=0\n",
    "    for x, y in zip(X,Y):\n",
    "        optimizer.zero_grad()\n",
    "        #print(x, y)\n",
    "        y_pred = model(x)\n",
    "        \n",
    "        single_loss = loss_function(y_pred, y)\n",
    "        single_loss.backward()\n",
    "        optimizer.step()\n",
    "    print(f\"Epoch: {i}. Loss: {single_loss.item()}\", end=\"\\r\")\n",
    "    #writer.add_scalar('Loss/train', single_loss.item(), i)"
   ]
  },
  {
   "cell_type": "markdown",
   "metadata": {},
   "source": [
    "## Evaluation"
   ]
  },
  {
   "cell_type": "code",
   "execution_count": 201,
   "metadata": {
    "execution": {
     "iopub.execute_input": "2020-12-21T20:56:18.437970Z",
     "iopub.status.busy": "2020-12-21T20:56:18.437824Z",
     "iopub.status.idle": "2020-12-21T20:56:18.661723Z",
     "shell.execute_reply": "2020-12-21T20:56:18.661413Z",
     "shell.execute_reply.started": "2020-12-21T20:56:18.437957Z"
    }
   },
   "outputs": [
    {
     "data": {
      "image/png": "[encoded data removed]",
      "text/plain": [
       "<Figure size 864x288 with 4 Axes>"
      ]
     },
     "metadata": {
      "needs_background": "light"
     },
     "output_type": "display_data"
    }
   ],
   "source": [
    "fig = plt.figure(figsize=(12,4))\n",
    "figNo = 1\n",
    "for i in range(4):\n",
    "    fig.add_subplot(1,4, figNo)\n",
    "    plt.imshow(Y[106][i].cpu(), cmap=\"gray\")\n",
    "    figNo += 1\n",
    "plt.show()"
   ]
  },
  {
   "cell_type": "code",
   "execution_count": 190,
   "metadata": {
    "execution": {
     "iopub.execute_input": "2020-12-21T20:06:26.688122Z",
     "iopub.status.busy": "2020-12-21T20:06:26.687978Z",
     "iopub.status.idle": "2020-12-21T20:06:26.922545Z",
     "shell.execute_reply": "2020-12-21T20:06:26.922293Z",
     "shell.execute_reply.started": "2020-12-21T20:06:26.688108Z"
    }
   },
   "outputs": [
    {
     "data": {
      "image/png": "[encoded data removed]",
      "text/plain": [
       "<Figure size 864x288 with 4 Axes>"
      ]
     },
     "metadata": {
      "needs_background": "light"
     },
     "output_type": "display_data"
    }
   ],
   "source": [
    "out = model(X[106]).detach().cpu()\n",
    "fig = plt.figure(figsize=(12,4))\n",
    "figNo = 1\n",
    "fig.suptitle(\"The featuremap of the board in the starting position\",fontsize=16)\n",
    "for i in range(4):\n",
    "    fig.add_subplot(1,4, figNo)\n",
    "    plt.imshow(out[i], cmap=\"gray\")\n",
    "    figNo += 1\n",
    "plt.show()"
   ]
  },
  {
   "cell_type": "code",
   "execution_count": 208,
   "metadata": {
    "execution": {
     "iopub.execute_input": "2020-12-21T21:03:28.950521Z",
     "iopub.status.busy": "2020-12-21T21:03:28.950378Z",
     "iopub.status.idle": "2020-12-21T21:03:28.968879Z",
     "shell.execute_reply": "2020-12-21T21:03:28.968525Z",
     "shell.execute_reply.started": "2020-12-21T21:03:28.950507Z"
    }
   },
   "outputs": [],
   "source": [
    "torch.save(model.state_dict(), \"trained/model100Games.pt\") # saving the model"
   ]
  }
 ],
 "metadata": {
  "kernelspec": {
   "display_name": "Python 3",
   "language": "python",
   "name": "python3"
  },
  "language_info": {
   "codemirror_mode": {
    "name": "ipython",
    "version": 3
   },
   "file_extension": ".py",
   "mimetype": "text/x-python",
   "name": "python",
   "nbconvert_exporter": "python",
   "pygments_lexer": "ipython3",
   "version": "3.8.5"
  }
 },
 "nbformat": 4,
 "nbformat_minor": 4
}
