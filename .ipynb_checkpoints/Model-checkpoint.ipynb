{
 "cells": [
  {
   "cell_type": "markdown",
   "metadata": {},
   "source": [
    "# Using 2657 tournament matches of Hikaru Nakamura to train a chess engine\n",
    "This notebook trains a deep neural network with 2657 tournament matches of the top player H. Nakamura to play chess."
   ]
  },
  {
   "cell_type": "code",
   "execution_count": 184,
   "metadata": {
    "execution": {
     "iopub.execute_input": "2020-12-14T14:35:47.099568Z",
     "iopub.status.busy": "2020-12-14T14:35:47.099430Z",
     "iopub.status.idle": "2020-12-14T14:35:47.102008Z",
     "shell.execute_reply": "2020-12-14T14:35:47.101617Z",
     "shell.execute_reply.started": "2020-12-14T14:35:47.099555Z"
    }
   },
   "outputs": [],
   "source": [
    "import chess.pgn\n",
    "import torch\n",
    "import numpy as np\n",
    "import os, os.path\n",
    "import timeit\n",
    "\n",
    "import torch\n",
    "import torch.nn as nn\n",
    "import torch.nn.functional as F\n",
    "import math\n",
    "\n",
    "from adabelief_pytorch import AdaBelief"
   ]
  },
  {
   "cell_type": "code",
   "execution_count": 185,
   "metadata": {
    "execution": {
     "iopub.execute_input": "2020-12-14T14:35:47.562767Z",
     "iopub.status.busy": "2020-12-14T14:35:47.562601Z",
     "iopub.status.idle": "2020-12-14T14:35:55.992836Z",
     "shell.execute_reply": "2020-12-14T14:35:55.992533Z",
     "shell.execute_reply.started": "2020-12-14T14:35:47.562750Z"
    }
   },
   "outputs": [
    {
     "name": "stdout",
     "output_type": "stream",
     "text": [
      "Loaded 2657 games in 8.426533395000206 seconds.\n"
     ]
    }
   ],
   "source": [
    "# loading the games\n",
    "DIR = 'data/Raw_game/Raw_game/Nakamura/'\n",
    "games = []\n",
    "numberOfGames = 0\n",
    "start = timeit.default_timer()\n",
    "for name in os.listdir(DIR):\n",
    "    numberOfGames += 1\n",
    "    games.append(chess.pgn.read_game(open(DIR+name)))\n",
    "stop = timeit.default_timer()\n",
    "print(\"Loaded\", numberOfGames, \"games in\", stop - start, \"seconds.\")"
   ]
  },
  {
   "cell_type": "code",
   "execution_count": 187,
   "metadata": {
    "execution": {
     "iopub.execute_input": "2020-12-14T14:36:08.196791Z",
     "iopub.status.busy": "2020-12-14T14:36:08.196636Z",
     "iopub.status.idle": "2020-12-14T14:36:08.199939Z",
     "shell.execute_reply": "2020-12-14T14:36:08.199657Z",
     "shell.execute_reply.started": "2020-12-14T14:36:08.196775Z"
    }
   },
   "outputs": [],
   "source": [
    "def moveToTensor(move):\n",
    "    boardLetters = \"abcdefgh\"\n",
    "    tensor = []\n",
    "    for i,m in enumerate(str(move)):\n",
    "        mo = [0 for j in range(8)]\n",
    "        if (i+1) % 2 == 0:\n",
    "            mo[int(m)-1] = 1\n",
    "        else:\n",
    "            mo[boardLetters.find(m)] = 1\n",
    "        tensor.append(mo)\n",
    "    tensor = torch.tensor(tensor).view(4,8)\n",
    "    return tensor.float()"
   ]
  },
  {
   "cell_type": "code",
   "execution_count": 188,
   "metadata": {
    "execution": {
     "iopub.execute_input": "2020-12-14T14:36:08.605384Z",
     "iopub.status.busy": "2020-12-14T14:36:08.605243Z",
     "iopub.status.idle": "2020-12-14T14:36:08.608285Z",
     "shell.execute_reply": "2020-12-14T14:36:08.607948Z",
     "shell.execute_reply.started": "2020-12-14T14:36:08.605370Z"
    }
   },
   "outputs": [],
   "source": [
    "def tensorToMove(tensor):\n",
    "    boardLetters = \"abcdefgh\"\n",
    "    ten = tensor.clone().detach().view(4,8).tolist()\n",
    "    move = \"\"\n",
    "    for i,m in enumerate(ten):\n",
    "        if (i+1) % 2 == 0:\n",
    "            move += str(m.index(1)+1)\n",
    "        else:\n",
    "            move += boardLetters[m.index(1)]\n",
    "    return move"
   ]
  },
  {
   "cell_type": "code",
   "execution_count": 189,
   "metadata": {
    "execution": {
     "iopub.execute_input": "2020-12-14T14:36:09.021616Z",
     "iopub.status.busy": "2020-12-14T14:36:09.021477Z",
     "iopub.status.idle": "2020-12-14T14:36:09.024215Z",
     "shell.execute_reply": "2020-12-14T14:36:09.023912Z",
     "shell.execute_reply.started": "2020-12-14T14:36:09.021602Z"
    }
   },
   "outputs": [],
   "source": [
    "def boardToTensor(board):\n",
    "    pieceLetters = \".rnbqkpRNBQKP\"\n",
    "    b = str(board).replace(\"\\n\", \" \").split(\" \")\n",
    "    tensor = np.zeros((1,64))\n",
    "    for i,e in enumerate(b):\n",
    "        tensor[0][i] = pieceLetters.find(e)\n",
    "    return tensor"
   ]
  },
  {
   "cell_type": "code",
   "execution_count": 190,
   "metadata": {
    "execution": {
     "iopub.execute_input": "2020-12-14T14:36:09.562633Z",
     "iopub.status.busy": "2020-12-14T14:36:09.562493Z",
     "iopub.status.idle": "2020-12-14T14:36:09.572863Z",
     "shell.execute_reply": "2020-12-14T14:36:09.572497Z",
     "shell.execute_reply.started": "2020-12-14T14:36:09.562619Z"
    }
   },
   "outputs": [],
   "source": [
    "X, Y = [], []\n",
    "turn = 1\n",
    "board = games[0].board()\n",
    "for move in games[0].mainline_moves():\n",
    "    turn += 1\n",
    "    board.push(move)\n",
    "    if turn % 2 == 0:\n",
    "        Y.append(moveToTensor(move))\n",
    "    else:\n",
    "        X.append(boardToTensor(board))"
   ]
  },
  {
   "cell_type": "code",
   "execution_count": 191,
   "metadata": {
    "execution": {
     "iopub.execute_input": "2020-12-14T14:36:09.752336Z",
     "iopub.status.busy": "2020-12-14T14:36:09.752189Z",
     "iopub.status.idle": "2020-12-14T14:36:09.757009Z",
     "shell.execute_reply": "2020-12-14T14:36:09.756694Z",
     "shell.execute_reply.started": "2020-12-14T14:36:09.752323Z"
    }
   },
   "outputs": [],
   "source": [
    "class Net(nn.Module):\n",
    "    def __init__(self):\n",
    "        super(Net, self).__init__()\n",
    "        self.l1 = nn.Linear(64, 128)\n",
    "        self.l2 = nn.Linear(128, 256)\n",
    "        \n",
    "        self.oo1 = nn.Linear(64, 8)\n",
    "        self.oo2 = nn.Linear(64, 8)\n",
    "        self.oo3 = nn.Linear(64, 8)\n",
    "        self.oo4 = nn.Linear(64, 8)\n",
    "        \n",
    "        self.softmax = nn.Softmax(dim=0)\n",
    " \n",
    "    def forward(self, x):\n",
    "        x = F.relu(self.l1(x))\n",
    "        x = F.relu(self.l2(x))\n",
    "        x = torch.split(x[0],64)\n",
    "        x1 = self.softmax(self.oo1(x[0]))\n",
    "        x2 = self.softmax(self.oo2(x[1]))\n",
    "        x3 = self.softmax(self.oo3(x[2]))\n",
    "        x4 = self.softmax(self.oo4(x[3]))\n",
    "        return torch.cat((x1,x2,x3,x4)).view(4,8)"
   ]
  },
  {
   "cell_type": "code",
   "execution_count": 192,
   "metadata": {
    "execution": {
     "iopub.execute_input": "2020-12-14T14:36:10.181044Z",
     "iopub.status.busy": "2020-12-14T14:36:10.180886Z",
     "iopub.status.idle": "2020-12-14T14:36:10.184792Z",
     "shell.execute_reply": "2020-12-14T14:36:10.184514Z",
     "shell.execute_reply.started": "2020-12-14T14:36:10.181028Z"
    }
   },
   "outputs": [
    {
     "name": "stdout",
     "output_type": "stream",
     "text": [
      "\u001b[31mPlease check your arguments if you have upgraded adabelief-pytorch from version 0.0.5.\n",
      "\u001b[31mModifications to default arguments:\n",
      "\u001b[31m                           eps  weight_decouple    rectify\n",
      "-----------------------  -----  -----------------  ---------\n",
      "adabelief-pytorch=0.0.5  1e-08  False              False\n",
      "Current version (0.1.0)  1e-16  True               True\n",
      "\u001b[31mFor a complete table of recommended hyperparameters, see\n",
      "\u001b[31mhttps://github.com/juntang-zhuang/Adabelief-Optimizer\n",
      "\u001b[0m\n",
      "Weight decoupling enabled in AdaBelief\n"
     ]
    }
   ],
   "source": [
    "model = Net()\n",
    "optimizer = AdaBelief(model.parameters(), lr=1e-3, eps=1e-16, betas=(0.9,0.999), weight_decouple = True, rectify = False)\n",
    "loss_function = nn.MSELoss()"
   ]
  },
  {
   "cell_type": "code",
   "execution_count": 193,
   "metadata": {
    "execution": {
     "iopub.execute_input": "2020-12-14T14:36:10.722332Z",
     "iopub.status.busy": "2020-12-14T14:36:10.722176Z",
     "iopub.status.idle": "2020-12-14T14:36:33.864015Z",
     "shell.execute_reply": "2020-12-14T14:36:33.863704Z",
     "shell.execute_reply.started": "2020-12-14T14:36:10.722316Z"
    }
   },
   "outputs": [
    {
     "name": "stdout",
     "output_type": "stream",
     "text": [
      "1.1049857029377108e-08 299 e3h6     \r"
     ]
    }
   ],
   "source": [
    "for i in range(300):\n",
    "    for x, y in zip(X,Y):\n",
    "        optimizer.zero_grad()\n",
    "\n",
    "        y_pred = model(torch.FloatTensor(x))\n",
    "\n",
    "        single_loss = loss_function(y_pred, y)\n",
    "        single_loss.backward()\n",
    "        optimizer.step()\n",
    "                \n",
    "    print(single_loss.item(), i, tensorToMove(y), end=\"     \\r\")"
   ]
  },
  {
   "cell_type": "code",
   "execution_count": 194,
   "metadata": {
    "execution": {
     "iopub.execute_input": "2020-12-14T14:36:37.657309Z",
     "iopub.status.busy": "2020-12-14T14:36:37.657129Z",
     "iopub.status.idle": "2020-12-14T14:36:37.673289Z",
     "shell.execute_reply": "2020-12-14T14:36:37.672811Z",
     "shell.execute_reply.started": "2020-12-14T14:36:37.657291Z"
    }
   },
   "outputs": [
    {
     "name": "stdout",
     "output_type": "stream",
     "text": [
      "e2e4 e2e4\n",
      "g1f3 g1f3\n",
      "d2d4 d2d4\n",
      "f3d4 f3d4\n",
      "c2c4 c2c4\n",
      "b1c3 b1c3\n",
      "d1d4 d1d4\n",
      "f1e2 f1e2\n",
      "c1e3 c1e3\n",
      "d4d2 d4d2\n",
      "e1g1 e1g1\n",
      "f1c1 f1c1\n",
      "b2b3 b2b3\n",
      "a1b1 a1b1\n",
      "b3b4 b3b4\n",
      "c4b5 c4b5\n",
      "e2b5 e2b5\n",
      "c3d5 c3d5\n",
      "d2c1 d2c1\n",
      "d5f6 d5f6\n",
      "b5c4 b5c4\n",
      "c4e6 c4e6\n",
      "b4b5 b4b5\n",
      "b5b6 b5b6\n",
      "c1d1 c1d1\n"
     ]
    },
    {
     "ename": "ValueError",
     "evalue": "1 is not in list",
     "output_type": "error",
     "traceback": [
      "\u001b[0;31m---------------------------------------------------------------------------\u001b[0m",
      "\u001b[0;31mValueError\u001b[0m                                Traceback (most recent call last)",
      "\u001b[0;32m<ipython-input-194-fd55bc906a62>\u001b[0m in \u001b[0;36m<module>\u001b[0;34m\u001b[0m\n\u001b[1;32m      1\u001b[0m \u001b[0;32mfor\u001b[0m \u001b[0mx\u001b[0m\u001b[0;34m,\u001b[0m \u001b[0my\u001b[0m \u001b[0;32min\u001b[0m \u001b[0mzip\u001b[0m\u001b[0;34m(\u001b[0m\u001b[0mX\u001b[0m\u001b[0;34m,\u001b[0m\u001b[0mY\u001b[0m\u001b[0;34m)\u001b[0m\u001b[0;34m:\u001b[0m\u001b[0;34m\u001b[0m\u001b[0;34m\u001b[0m\u001b[0m\n\u001b[0;32m----> 2\u001b[0;31m     \u001b[0mprint\u001b[0m\u001b[0;34m(\u001b[0m\u001b[0mtensorToMove\u001b[0m\u001b[0;34m(\u001b[0m\u001b[0my\u001b[0m\u001b[0;34m)\u001b[0m\u001b[0;34m,\u001b[0m \u001b[0mtensorToMove\u001b[0m\u001b[0;34m(\u001b[0m\u001b[0mtorch\u001b[0m\u001b[0;34m.\u001b[0m\u001b[0mround\u001b[0m\u001b[0;34m(\u001b[0m\u001b[0mmodel\u001b[0m\u001b[0;34m(\u001b[0m\u001b[0mtorch\u001b[0m\u001b[0;34m.\u001b[0m\u001b[0mFloatTensor\u001b[0m\u001b[0;34m(\u001b[0m\u001b[0mx\u001b[0m\u001b[0;34m)\u001b[0m\u001b[0;34m)\u001b[0m\u001b[0;34m)\u001b[0m\u001b[0;34m)\u001b[0m\u001b[0;34m)\u001b[0m\u001b[0;34m\u001b[0m\u001b[0;34m\u001b[0m\u001b[0m\n\u001b[0m",
      "\u001b[0;32m<ipython-input-188-a5d81b3ac19a>\u001b[0m in \u001b[0;36mtensorToMove\u001b[0;34m(tensor)\u001b[0m\n\u001b[1;32m      7\u001b[0m             \u001b[0mmove\u001b[0m \u001b[0;34m+=\u001b[0m \u001b[0mstr\u001b[0m\u001b[0;34m(\u001b[0m\u001b[0mm\u001b[0m\u001b[0;34m.\u001b[0m\u001b[0mindex\u001b[0m\u001b[0;34m(\u001b[0m\u001b[0;36m1\u001b[0m\u001b[0;34m)\u001b[0m\u001b[0;34m+\u001b[0m\u001b[0;36m1\u001b[0m\u001b[0;34m)\u001b[0m\u001b[0;34m\u001b[0m\u001b[0;34m\u001b[0m\u001b[0m\n\u001b[1;32m      8\u001b[0m         \u001b[0;32melse\u001b[0m\u001b[0;34m:\u001b[0m\u001b[0;34m\u001b[0m\u001b[0;34m\u001b[0m\u001b[0m\n\u001b[0;32m----> 9\u001b[0;31m             \u001b[0mmove\u001b[0m \u001b[0;34m+=\u001b[0m \u001b[0mboardLetters\u001b[0m\u001b[0;34m[\u001b[0m\u001b[0mm\u001b[0m\u001b[0;34m.\u001b[0m\u001b[0mindex\u001b[0m\u001b[0;34m(\u001b[0m\u001b[0;36m1\u001b[0m\u001b[0;34m)\u001b[0m\u001b[0;34m]\u001b[0m\u001b[0;34m\u001b[0m\u001b[0;34m\u001b[0m\u001b[0m\n\u001b[0m\u001b[1;32m     10\u001b[0m     \u001b[0;32mreturn\u001b[0m \u001b[0mmove\u001b[0m\u001b[0;34m\u001b[0m\u001b[0;34m\u001b[0m\u001b[0m\n",
      "\u001b[0;31mValueError\u001b[0m: 1 is not in list"
     ]
    }
   ],
   "source": [
    "for x, y in zip(X,Y):\n",
    "    print(tensorToMove(y), tensorToMove(torch.round(model(torch.FloatTensor(x)))))"
   ]
  },
  {
   "cell_type": "code",
   "execution_count": null,
   "metadata": {},
   "outputs": [],
   "source": []
  }
 ],
 "metadata": {
  "kernelspec": {
   "display_name": "Python 3",
   "language": "python",
   "name": "python3"
  },
  "language_info": {
   "codemirror_mode": {
    "name": "ipython",
    "version": 3
   },
   "file_extension": ".py",
   "mimetype": "text/x-python",
   "name": "python",
   "nbconvert_exporter": "python",
   "pygments_lexer": "ipython3",
   "version": "3.8.5"
  }
 },
 "nbformat": 4,
 "nbformat_minor": 4
}
